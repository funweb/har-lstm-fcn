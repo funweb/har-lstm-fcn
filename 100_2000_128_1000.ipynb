{
 "cells": [
  {
   "cell_type": "markdown",
   "metadata": {
    "collapsed": true,
    "pycharm": {
     "name": "#%% md\n"
    }
   },
   "source": [
    "名字的含义：\n",
    "\n",
    "`100_2000_128_1000.ipynb`\n",
    "\n",
    "`[tag]_[data_length]_[BS]_[epochs]`"
   ]
  },
  {
   "cell_type": "code",
   "execution_count": 1,
   "metadata": {
    "pycharm": {
     "name": "#%%\n"
    }
   },
   "outputs": [],
   "source": [
    "from utils import constants, general\n",
    "import os\n",
    "\n",
    "nb_name_file = general.ipy_nb_name(constants.JUPYTER_TOKEN[\"token_lists\"])"
   ]
  },
  {
   "cell_type": "code",
   "execution_count": null,
   "metadata": {
    "pycharm": {
     "name": "#%%\n"
    }
   },
   "outputs": [],
   "source": []
  },
  {
   "cell_type": "code",
   "execution_count": 2,
   "metadata": {
    "pycharm": {
     "name": "#%%\n"
    }
   },
   "outputs": [
    {
     "data": {
      "text/plain": [
       "{'num': '100', 'data_length': 2000, 'batch_size': 128, 'epochs': 10}"
      ]
     },
     "metadata": {},
     "output_type": "display_data"
    }
   ],
   "source": [
    "theNotebook = nb_name_file.split('_')\n",
    "assert len(theNotebook) == 4, 'The number of parameters should be 4'\n",
    "\n",
    "global title_param\n",
    "title_param = {\n",
    "    'num': theNotebook[0],\n",
    "    'data_length': int(theNotebook[1]),\n",
    "    'batch_size': int(theNotebook[2]),\n",
    "    'epochs': int(theNotebook[3])\n",
    "}\n",
    "\n",
    "display(title_param)"
   ]
  },
  {
   "cell_type": "code",
   "execution_count": null,
   "metadata": {
    "pycharm": {
     "name": "#%%\n"
    }
   },
   "outputs": [],
   "source": []
  },
  {
   "cell_type": "code",
   "execution_count": 3,
   "metadata": {
    "pycharm": {
     "name": "#%%\n"
    }
   },
   "outputs": [
    {
     "name": "stderr",
     "output_type": "stream",
     "text": [
      "/home/musk/anaconda3/envs/HARedit/lib/python3.6/site-packages/tensorflow/python/framework/dtypes.py:523: FutureWarning: Passing (type, 1) or '1type' as a synonym of type is deprecated; in a future version of numpy, it will be understood as (type, (1,)) / '(1,)type'.\n",
      "  _np_qint8 = np.dtype([(\"qint8\", np.int8, 1)])\n",
      "/home/musk/anaconda3/envs/HARedit/lib/python3.6/site-packages/tensorflow/python/framework/dtypes.py:524: FutureWarning: Passing (type, 1) or '1type' as a synonym of type is deprecated; in a future version of numpy, it will be understood as (type, (1,)) / '(1,)type'.\n",
      "  _np_quint8 = np.dtype([(\"quint8\", np.uint8, 1)])\n",
      "/home/musk/anaconda3/envs/HARedit/lib/python3.6/site-packages/tensorflow/python/framework/dtypes.py:525: FutureWarning: Passing (type, 1) or '1type' as a synonym of type is deprecated; in a future version of numpy, it will be understood as (type, (1,)) / '(1,)type'.\n",
      "  _np_qint16 = np.dtype([(\"qint16\", np.int16, 1)])\n",
      "/home/musk/anaconda3/envs/HARedit/lib/python3.6/site-packages/tensorflow/python/framework/dtypes.py:526: FutureWarning: Passing (type, 1) or '1type' as a synonym of type is deprecated; in a future version of numpy, it will be understood as (type, (1,)) / '(1,)type'.\n",
      "  _np_quint16 = np.dtype([(\"quint16\", np.uint16, 1)])\n",
      "/home/musk/anaconda3/envs/HARedit/lib/python3.6/site-packages/tensorflow/python/framework/dtypes.py:527: FutureWarning: Passing (type, 1) or '1type' as a synonym of type is deprecated; in a future version of numpy, it will be understood as (type, (1,)) / '(1,)type'.\n",
      "  _np_qint32 = np.dtype([(\"qint32\", np.int32, 1)])\n",
      "/home/musk/anaconda3/envs/HARedit/lib/python3.6/site-packages/tensorflow/python/framework/dtypes.py:532: FutureWarning: Passing (type, 1) or '1type' as a synonym of type is deprecated; in a future version of numpy, it will be understood as (type, (1,)) / '(1,)type'.\n",
      "  np_resource = np.dtype([(\"resource\", np.ubyte, 1)])\n"
     ]
    },
    {
     "name": "stdout",
     "output_type": "stream",
     "text": [
      "GPU used: [0], final choose: 0\n"
     ]
    }
   ],
   "source": [
    "import tensorflow as tf\n",
    "\n",
    "calculation_unit = general.getAvailableId()\n",
    "os.environ[\"CUDA_VISIBLE_DEVICES\"] = calculation_unit\n",
    "\n",
    "if calculation_unit != \"-1\":\n",
    "    config = tf.ConfigProto()\n",
    "    config.gpu_options.allow_growth = True\n",
    "    session = tf.Session(config=config)\n",
    "\n",
    "os.environ['TF_CPP_MIN_LOG_LEVEL'] = '3'"
   ]
  },
  {
   "cell_type": "code",
   "execution_count": null,
   "metadata": {
    "pycharm": {
     "name": "#%%\n"
    }
   },
   "outputs": [],
   "source": []
  },
  {
   "cell_type": "code",
   "execution_count": 4,
   "metadata": {
    "pycharm": {
     "name": "#%%\n"
    }
   },
   "outputs": [
    {
     "name": "stderr",
     "output_type": "stream",
     "text": [
      "Using TensorFlow backend.\n"
     ]
    }
   ],
   "source": [
    "from all_datasets_trainingLY import train_val"
   ]
  },
  {
   "cell_type": "code",
   "execution_count": null,
   "metadata": {
    "pycharm": {
     "name": "#%%\n"
    },
    "scrolled": false
   },
   "outputs": [
    {
     "name": "stdout",
     "output_type": "stream",
     "text": [
      "Num datasets :  105\n",
      "\n",
      "******************** Training model for dataset cairo_9999_0 ********************\n",
      "Loading train / test dataset :  ../datasets/casas/ende/cairo/9999/npy/3/cairo-train-x-0.npy ../datasets/casas/ende/cairo/9999/npy/3/cairo-test-x-0.npy\n",
      "Finished loading train dataset..\n",
      "Finished loading test dataset..\n",
      "\n",
      "Number of train samples :  782 Number of test samples :  392\n",
      "Number of classes :  7\n",
      "Sequence length :  2000\n",
      "Class weights :  [0.22477723 2.93984962 3.85221675 1.64285714 2.42857143 1.32993197\n",
      " 5.58571429]\n",
      "Train on 782 samples, validate on 392 samples\n",
      "Epoch 1/10\n",
      " - 6s - loss: 1.4670 - acc: 0.5422 - val_loss: 1.1043 - val_acc: 0.6352\n",
      "\n",
      "Epoch 00001: loss improved from inf to 1.46702, saving model to ./weights/lstmfcn_8_cells_weights/cairo_9999_0_weights.h5\n",
      "Epoch 2/10\n",
      " - 3s - loss: 1.0674 - acc: 0.6816 - val_loss: 1.0068 - val_acc: 0.6709\n",
      "\n",
      "Epoch 00002: loss improved from 1.46702 to 1.06744, saving model to ./weights/lstmfcn_8_cells_weights/cairo_9999_0_weights.h5\n",
      "Epoch 3/10\n",
      " - 3s - loss: 0.9875 - acc: 0.6662 - val_loss: 0.9838 - val_acc: 0.6888\n",
      "\n",
      "Epoch 00003: loss improved from 1.06744 to 0.98749, saving model to ./weights/lstmfcn_8_cells_weights/cairo_9999_0_weights.h5\n",
      "Epoch 4/10\n",
      " - 3s - loss: 0.9433 - acc: 0.6714 - val_loss: 1.0163 - val_acc: 0.6250\n",
      "\n",
      "Epoch 00004: loss improved from 0.98749 to 0.94335, saving model to ./weights/lstmfcn_8_cells_weights/cairo_9999_0_weights.h5\n",
      "Epoch 5/10\n",
      " - 3s - loss: 0.9124 - acc: 0.6829 - val_loss: 0.9971 - val_acc: 0.6276\n",
      "\n",
      "Epoch 00005: loss improved from 0.94335 to 0.91238, saving model to ./weights/lstmfcn_8_cells_weights/cairo_9999_0_weights.h5\n",
      "Epoch 6/10\n",
      " - 3s - loss: 0.9007 - acc: 0.6803 - val_loss: 1.0090 - val_acc: 0.6327\n",
      "\n",
      "Epoch 00006: loss improved from 0.91238 to 0.90068, saving model to ./weights/lstmfcn_8_cells_weights/cairo_9999_0_weights.h5\n",
      "Epoch 7/10\n",
      " - 3s - loss: 0.8697 - acc: 0.6867 - val_loss: 0.9550 - val_acc: 0.6607\n",
      "\n",
      "Epoch 00007: loss improved from 0.90068 to 0.86974, saving model to ./weights/lstmfcn_8_cells_weights/cairo_9999_0_weights.h5\n",
      "Epoch 8/10\n",
      " - 3s - loss: 0.8611 - acc: 0.6816 - val_loss: 0.9648 - val_acc: 0.6607\n",
      "\n",
      "Epoch 00008: loss improved from 0.86974 to 0.86113, saving model to ./weights/lstmfcn_8_cells_weights/cairo_9999_0_weights.h5\n",
      "Epoch 9/10\n",
      " - 3s - loss: 0.8747 - acc: 0.6841 - val_loss: 0.9524 - val_acc: 0.6633\n",
      "\n",
      "Epoch 00009: loss did not improve from 0.86113\n",
      "Epoch 10/10\n",
      " - 3s - loss: 0.8486 - acc: 0.6944 - val_loss: 0.9320 - val_acc: 0.7041\n",
      "\n",
      "Epoch 00010: loss improved from 0.86113 to 0.84855, saving model to ./weights/lstmfcn_8_cells_weights/cairo_9999_0_weights.h5\n",
      "Loading train / test dataset :  ../datasets/casas/ende/cairo/9999/npy/3/cairo-train-x-0.npy ../datasets/casas/ende/cairo/9999/npy/3/cairo-test-x-0.npy\n",
      "Finished loading train dataset..\n",
      "Finished loading test dataset..\n",
      "\n",
      "Number of train samples :  782 Number of test samples :  392\n",
      "Number of classes :  7\n",
      "Sequence length :  2000\n",
      "Weights loaded from  ./weights/lstmfcn_8_cells_weights/cairo_9999_0_weights.h5\n",
      "\n",
      "Evaluating : \n",
      "392/392 [==============================] - 1s 2ms/step\n",
      "\n",
      "Final Accuracy :  0.7040816326530612\n",
      "******************** Training model for dataset cairo_9999_1 ********************\n",
      "Loading train / test dataset :  ../datasets/casas/ende/cairo/9999/npy/3/cairo-train-x-1.npy ../datasets/casas/ende/cairo/9999/npy/3/cairo-test-x-1.npy\n",
      "Finished loading train dataset..\n",
      "Finished loading test dataset..\n",
      "\n",
      "Number of train samples :  783 Number of test samples :  391\n",
      "Number of classes :  7\n",
      "Sequence length :  2000\n",
      "Class weights :  [0.22506467 3.02316602 3.72857143 1.64495798 2.43167702 1.31596639\n",
      " 5.59285714]\n",
      "Train on 783 samples, validate on 391 samples\n",
      "Epoch 1/10\n",
      " - 5s - loss: 1.6346 - acc: 0.4112 - val_loss: 1.1598 - val_acc: 0.6343\n",
      "\n",
      "Epoch 00001: loss improved from inf to 1.63456, saving model to ./weights/lstmfcn_8_cells_weights/cairo_9999_1_weights.h5\n",
      "Epoch 2/10\n",
      " - 3s - loss: 1.1824 - acc: 0.6475 - val_loss: 1.0194 - val_acc: 0.6368\n",
      "\n",
      "Epoch 00002: loss improved from 1.63456 to 1.18240, saving model to ./weights/lstmfcn_8_cells_weights/cairo_9999_1_weights.h5\n",
      "Epoch 3/10\n",
      " - 3s - loss: 1.0392 - acc: 0.6577 - val_loss: 0.9983 - val_acc: 0.6368\n",
      "\n",
      "Epoch 00003: loss improved from 1.18240 to 1.03924, saving model to ./weights/lstmfcn_8_cells_weights/cairo_9999_1_weights.h5\n",
      "Epoch 4/10\n",
      " - 3s - loss: 0.9922 - acc: 0.6564 - val_loss: 0.9921 - val_acc: 0.6368\n",
      "\n",
      "Epoch 00004: loss improved from 1.03924 to 0.99221, saving model to ./weights/lstmfcn_8_cells_weights/cairo_9999_1_weights.h5\n",
      "Epoch 5/10\n",
      " - 3s - loss: 0.9760 - acc: 0.6616 - val_loss: 0.9723 - val_acc: 0.6368\n",
      "\n",
      "Epoch 00005: loss improved from 0.99221 to 0.97600, saving model to ./weights/lstmfcn_8_cells_weights/cairo_9999_1_weights.h5\n",
      "Epoch 6/10\n",
      " - 3s - loss: 0.9595 - acc: 0.6718 - val_loss: 1.0491 - val_acc: 0.5985\n",
      "\n",
      "Epoch 00006: loss improved from 0.97600 to 0.95953, saving model to ./weights/lstmfcn_8_cells_weights/cairo_9999_1_weights.h5\n",
      "Epoch 7/10\n",
      " - 3s - loss: 0.9419 - acc: 0.6743 - val_loss: 1.0137 - val_acc: 0.6113\n",
      "\n",
      "Epoch 00007: loss improved from 0.95953 to 0.94191, saving model to ./weights/lstmfcn_8_cells_weights/cairo_9999_1_weights.h5\n",
      "Epoch 8/10\n",
      " - 3s - loss: 0.9109 - acc: 0.6794 - val_loss: 1.0328 - val_acc: 0.6061\n",
      "\n",
      "Epoch 00008: loss improved from 0.94191 to 0.91089, saving model to ./weights/lstmfcn_8_cells_weights/cairo_9999_1_weights.h5\n",
      "Epoch 9/10\n",
      " - 3s - loss: 0.9004 - acc: 0.6909 - val_loss: 1.0893 - val_acc: 0.5857\n",
      "\n",
      "Epoch 00009: loss improved from 0.91089 to 0.90037, saving model to ./weights/lstmfcn_8_cells_weights/cairo_9999_1_weights.h5\n",
      "Epoch 10/10\n",
      " - 3s - loss: 0.8879 - acc: 0.6731 - val_loss: 1.0522 - val_acc: 0.6010\n",
      "\n",
      "Epoch 00010: loss improved from 0.90037 to 0.88793, saving model to ./weights/lstmfcn_8_cells_weights/cairo_9999_1_weights.h5\n",
      "Loading train / test dataset :  ../datasets/casas/ende/cairo/9999/npy/3/cairo-train-x-1.npy ../datasets/casas/ende/cairo/9999/npy/3/cairo-test-x-1.npy\n",
      "Finished loading train dataset..\n",
      "Finished loading test dataset..\n",
      "\n",
      "Number of train samples :  783 Number of test samples :  391\n",
      "Number of classes :  7\n",
      "Sequence length :  2000\n",
      "Weights loaded from  ./weights/lstmfcn_8_cells_weights/cairo_9999_1_weights.h5\n",
      "\n",
      "Evaluating : \n",
      "391/391 [==============================] - 1s 2ms/step\n",
      "\n",
      "Final Accuracy :  0.6010230183601379\n",
      "******************** Training model for dataset cairo_9999_2 ********************\n",
      "Loading train / test dataset :  ../datasets/casas/ende/cairo/9999/npy/3/cairo-train-x-2.npy ../datasets/casas/ende/cairo/9999/npy/3/cairo-test-x-2.npy\n",
      "Finished loading train dataset..\n",
      "Finished loading test dataset..\n",
      "\n",
      "Number of train samples :  783 Number of test samples :  391\n",
      "Number of classes :  7\n",
      "Sequence length :  2000\n",
      "Class weights :  [0.22461274 3.02316602 3.85714286 1.64495798 2.43167702 1.31596639\n",
      " 5.59285714]\n",
      "Train on 783 samples, validate on 391 samples\n",
      "Epoch 1/10\n",
      " - 5s - loss: 1.5249 - acc: 0.4521 - val_loss: 1.1211 - val_acc: 0.6496\n",
      "\n",
      "Epoch 00001: loss improved from inf to 1.52493, saving model to ./weights/lstmfcn_8_cells_weights/cairo_9999_2_weights.h5\n",
      "Epoch 2/10\n",
      " - 3s - loss: 1.1175 - acc: 0.6513 - val_loss: 1.0063 - val_acc: 0.6675\n",
      "\n",
      "Epoch 00002: loss improved from 1.52493 to 1.11748, saving model to ./weights/lstmfcn_8_cells_weights/cairo_9999_2_weights.h5\n",
      "Epoch 3/10\n",
      " - 3s - loss: 1.0105 - acc: 0.6820 - val_loss: 0.9981 - val_acc: 0.6547\n",
      "\n",
      "Epoch 00003: loss improved from 1.11748 to 1.01047, saving model to ./weights/lstmfcn_8_cells_weights/cairo_9999_2_weights.h5\n",
      "Epoch 4/10\n",
      " - 3s - loss: 0.9488 - acc: 0.6935 - val_loss: 0.9555 - val_acc: 0.6854\n",
      "\n",
      "Epoch 00004: loss improved from 1.01047 to 0.94885, saving model to ./weights/lstmfcn_8_cells_weights/cairo_9999_2_weights.h5\n",
      "Epoch 5/10\n",
      " - 3s - loss: 0.9429 - acc: 0.6667 - val_loss: 0.9652 - val_acc: 0.6573\n",
      "\n",
      "Epoch 00005: loss improved from 0.94885 to 0.94292, saving model to ./weights/lstmfcn_8_cells_weights/cairo_9999_2_weights.h5\n",
      "Epoch 6/10\n",
      " - 3s - loss: 0.9094 - acc: 0.6922 - val_loss: 0.9335 - val_acc: 0.6829\n",
      "\n",
      "Epoch 00006: loss improved from 0.94292 to 0.90942, saving model to ./weights/lstmfcn_8_cells_weights/cairo_9999_2_weights.h5\n",
      "Epoch 7/10\n",
      " - 3s - loss: 0.9067 - acc: 0.6833 - val_loss: 0.9437 - val_acc: 0.6471\n",
      "\n",
      "Epoch 00007: loss improved from 0.90942 to 0.90671, saving model to ./weights/lstmfcn_8_cells_weights/cairo_9999_2_weights.h5\n",
      "Epoch 8/10\n"
     ]
    },
    {
     "name": "stdout",
     "output_type": "stream",
     "text": [
      " - 3s - loss: 0.8989 - acc: 0.6884 - val_loss: 0.9142 - val_acc: 0.6573\n",
      "\n",
      "Epoch 00008: loss improved from 0.90671 to 0.89888, saving model to ./weights/lstmfcn_8_cells_weights/cairo_9999_2_weights.h5\n",
      "Epoch 9/10\n",
      " - 3s - loss: 0.8957 - acc: 0.6960 - val_loss: 0.8784 - val_acc: 0.6931\n",
      "\n",
      "Epoch 00009: loss improved from 0.89888 to 0.89570, saving model to ./weights/lstmfcn_8_cells_weights/cairo_9999_2_weights.h5\n",
      "Epoch 10/10\n",
      " - 3s - loss: 0.8726 - acc: 0.6909 - val_loss: 0.8736 - val_acc: 0.6803\n",
      "\n",
      "Epoch 00010: loss improved from 0.89570 to 0.87261, saving model to ./weights/lstmfcn_8_cells_weights/cairo_9999_2_weights.h5\n",
      "Loading train / test dataset :  ../datasets/casas/ende/cairo/9999/npy/3/cairo-train-x-2.npy ../datasets/casas/ende/cairo/9999/npy/3/cairo-test-x-2.npy\n",
      "Finished loading train dataset..\n",
      "Finished loading test dataset..\n",
      "\n",
      "Number of train samples :  783 Number of test samples :  391\n",
      "Number of classes :  7\n",
      "Sequence length :  2000\n",
      "Weights loaded from  ./weights/lstmfcn_8_cells_weights/cairo_9999_2_weights.h5\n",
      "\n",
      "Evaluating : \n",
      "391/391 [==============================] - 1s 2ms/step\n",
      "\n",
      "Final Accuracy :  0.680306905370844\n",
      "\n",
      "\n",
      "\n",
      "******************** Successes ********************\n",
      "\n",
      "        data_name                                method       acc\n",
      "0    cairo_9999_0  lstmfcn_8_cells_weights/cairo_9999_0  0.704082\n",
      "1    cairo_9999_1  lstmfcn_8_cells_weights/cairo_9999_1  0.601023\n",
      "2    cairo_9999_2  lstmfcn_8_cells_weights/cairo_9999_2  0.680307\n",
      "3             NaN                                   NaN       NaN\n",
      "4             NaN                                   NaN       NaN\n",
      "..            ...                                   ...       ...\n",
      "100           NaN                                   NaN       NaN\n",
      "101           NaN                                   NaN       NaN\n",
      "102           NaN                                   NaN       NaN\n",
      "103           NaN                                   NaN       NaN\n",
      "104           NaN                                   NaN       NaN\n",
      "\n",
      "[105 rows x 3 columns]\n",
      "\n",
      "\n",
      "\n",
      "******************** Failures ********************\n",
      "******************** Training model for dataset cairo_9999_0 ********************\n",
      "Loading train / test dataset :  ../datasets/casas/ende/cairo/9999/npy/3/cairo-train-x-0.npy ../datasets/casas/ende/cairo/9999/npy/3/cairo-test-x-0.npy\n",
      "Finished loading train dataset..\n",
      "Finished loading test dataset..\n",
      "\n",
      "Number of train samples :  782 Number of test samples :  392\n",
      "Number of classes :  7\n",
      "Sequence length :  2000\n",
      "Class weights :  [0.22477723 2.93984962 3.85221675 1.64285714 2.42857143 1.32993197\n",
      " 5.58571429]\n",
      "Train on 782 samples, validate on 392 samples\n",
      "Epoch 1/10\n",
      " - 5s - loss: 1.4932 - acc: 0.4693 - val_loss: 1.1266 - val_acc: 0.6327\n",
      "\n",
      "Epoch 00001: loss improved from inf to 1.49315, saving model to ./weights/lstmfcn_64_cells_weights/cairo_9999_0_weights.h5\n",
      "Epoch 2/10\n"
     ]
    }
   ],
   "source": [
    "train_val(epochs=title_param[\"epochs\"], batch_size=title_param[\"batch_size\"])"
   ]
  }
 ],
 "metadata": {
  "kernelspec": {
   "display_name": "Python 3",
   "language": "python",
   "name": "python3"
  },
  "language_info": {
   "codemirror_mode": {
    "name": "ipython",
    "version": 3
   },
   "file_extension": ".py",
   "mimetype": "text/x-python",
   "name": "python",
   "nbconvert_exporter": "python",
   "pygments_lexer": "ipython3",
   "version": "3.6.13"
  }
 },
 "nbformat": 4,
 "nbformat_minor": 1
}
